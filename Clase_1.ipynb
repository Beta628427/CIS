{
  "nbformat": 4,
  "nbformat_minor": 0,
  "metadata": {
    "colab": {
      "name": "Untitled5.ipynb",
      "provenance": [],
      "mount_file_id": "https://github.com/Beta628427/CIS/blob/master/Clase_1.ipynb",
      "authorship_tag": "ABX9TyPpiuax9MPKv060keZBIrdA",
      "include_colab_link": true
    },
    "kernelspec": {
      "name": "python3",
      "display_name": "Python 3"
    }
  },
  "cells": [
    {
      "cell_type": "markdown",
      "metadata": {
        "id": "view-in-github",
        "colab_type": "text"
      },
      "source": [
        "<a href=\"https://colab.research.google.com/github/Beta628427/CIS/blob/master/Clase_1.ipynb\" target=\"_parent\"><img src=\"https://colab.research.google.com/assets/colab-badge.svg\" alt=\"Open In Colab\"/></a>"
      ]
    },
    {
      "cell_type": "code",
      "metadata": {
        "id": "_bd-l45QyUrL",
        "colab_type": "code",
        "colab": {}
      },
      "source": [
        "# Importamos lib de acceso a drive y damos acceso al drive\n",
        "# https://gspread.readthedocs.io/en/latest/\n",
        "import gspread\n",
        "from google.colab import auth\n",
        "from oauth2client.client import GoogleCredentials\n",
        "\n",
        "auth.authenticate_user()\n",
        "gc = gspread.authorize(GoogleCredentials.get_application_default())"
      ],
      "execution_count": 0,
      "outputs": []
    },
    {
      "cell_type": "code",
      "metadata": {
        "id": "MTI8UeNhyMKs",
        "colab_type": "code",
        "outputId": "7fdcbbd1-dcb1-4d44-8aa2-fb2d8d53d95e",
        "colab": {
          "base_uri": "https://localhost:8080/",
          "height": 35
        }
      },
      "source": [
        "gc.create(\"DATASET1\")"
      ],
      "execution_count": 0,
      "outputs": [
        {
          "output_type": "execute_result",
          "data": {
            "text/plain": [
              "<Spreadsheet 'DATASET1' id:198GaA2ux-i0KqJlPRKvoWYnTGIDfLbzXxIb4damQu5s>"
            ]
          },
          "metadata": {
            "tags": []
          },
          "execution_count": 2
        }
      ]
    },
    {
      "cell_type": "code",
      "metadata": {
        "id": "WFnIgKvk260a",
        "colab_type": "code",
        "outputId": "f3c80caa-f3fa-41bd-ac8b-13da2363669f",
        "colab": {
          "base_uri": "https://localhost:8080/",
          "height": 126
        }
      },
      "source": [
        "# Variables.\n",
        "\n",
        "x = 10\n",
        "y = 10.5\n",
        "z = False\n",
        "r = [] # arreglo\n",
        "k = {\"\":[]}\n",
        "s = \"sfdhsdtj\"\n",
        "\n",
        "print(type(x))\n",
        "print(type(y))\n",
        "print(type(z))\n",
        "print(type(r))\n",
        "print(type(k))\n",
        "print(type(s))"
      ],
      "execution_count": 0,
      "outputs": [
        {
          "output_type": "stream",
          "text": [
            "<class 'int'>\n",
            "<class 'float'>\n",
            "<class 'bool'>\n",
            "<class 'list'>\n",
            "<class 'dict'>\n",
            "<class 'str'>\n"
          ],
          "name": "stdout"
        }
      ]
    },
    {
      "cell_type": "markdown",
      "metadata": {
        "id": "1GW55gEI7fWf",
        "colab_type": "text"
      },
      "source": [
        "# ciclo If"
      ]
    },
    {
      "cell_type": "code",
      "metadata": {
        "id": "DKrQldGk4Hg0",
        "colab_type": "code",
        "outputId": "012ae49f-2f71-42e3-f97d-152c57103764",
        "colab": {
          "base_uri": "https://localhost:8080/",
          "height": 35
        }
      },
      "source": [
        "# ciclos \n",
        "# condiciones\n",
        "# ==\n",
        "# < OR >\n",
        "# >= OR <=\n",
        "# !=\n",
        "\n",
        "a = \"55\"\n",
        "b = 55\n",
        "\n",
        "# if\n",
        "if (a == str(b)):\n",
        "  print(\"Si es igual\")\n",
        "else:\n",
        "  print(\"no es igiual\")\n"
      ],
      "execution_count": 0,
      "outputs": [
        {
          "output_type": "stream",
          "text": [
            "Si es igual\n"
          ],
          "name": "stdout"
        }
      ]
    },
    {
      "cell_type": "code",
      "metadata": {
        "id": "Ro2_bPeQ57HJ",
        "colab_type": "code",
        "outputId": "6309a458-66a1-46c7-dbcc-dc06c2417b83",
        "colab": {
          "base_uri": "https://localhost:8080/",
          "height": 90
        }
      },
      "source": [
        "c = [\"Beta\", \"Nicolas\", \"Cruz\", \"Rico\"]\n",
        "\n",
        "# for\n",
        "for i in c:\n",
        "  print(i)"
      ],
      "execution_count": 0,
      "outputs": [
        {
          "output_type": "stream",
          "text": [
            "Beta\n",
            "Nicolas\n",
            "Cruz\n",
            "Rico\n"
          ],
          "name": "stdout"
        }
      ]
    },
    {
      "cell_type": "markdown",
      "metadata": {
        "id": "KyqStJ-P6cZq",
        "colab_type": "text"
      },
      "source": [
        "# ciclo For\n",
        "\n"
      ]
    },
    {
      "cell_type": "code",
      "metadata": {
        "id": "FPHRhzM95ZPC",
        "colab_type": "code",
        "outputId": "b1827594-11e5-4bef-fe31-74ab0a6dd2a8",
        "colab": {
          "base_uri": "https://localhost:8080/",
          "height": 108
        }
      },
      "source": [
        "# gsdfgsdfhsdh\n",
        "for i in range(5):\n",
        "  print(i)"
      ],
      "execution_count": 0,
      "outputs": [
        {
          "output_type": "stream",
          "text": [
            "0\n",
            "1\n",
            "2\n",
            "3\n",
            "4\n"
          ],
          "name": "stdout"
        }
      ]
    },
    {
      "cell_type": "code",
      "metadata": {
        "id": "Z1I3vRNA5eLg",
        "colab_type": "code",
        "outputId": "edc4cbf1-749f-451f-d0c7-5323506e4f45",
        "colab": {
          "base_uri": "https://localhost:8080/",
          "height": 126
        }
      },
      "source": [
        "for i in range(10,16):\n",
        "  print(i)"
      ],
      "execution_count": 0,
      "outputs": [
        {
          "output_type": "stream",
          "text": [
            "10\n",
            "11\n",
            "12\n",
            "13\n",
            "14\n",
            "15\n"
          ],
          "name": "stdout"
        }
      ]
    },
    {
      "cell_type": "markdown",
      "metadata": {
        "id": "TbIlxW1G7VTI",
        "colab_type": "text"
      },
      "source": [
        "# ciclo While"
      ]
    },
    {
      "cell_type": "code",
      "metadata": {
        "id": "Iv3oKM4y5Pjx",
        "colab_type": "code",
        "colab": {}
      },
      "source": [
        "i = 0\n",
        "while(True):\n",
        "  i += 1\n",
        "  print(i)"
      ],
      "execution_count": 0,
      "outputs": []
    },
    {
      "cell_type": "code",
      "metadata": {
        "id": "c9dUoAqZ5Oac",
        "colab_type": "code",
        "outputId": "f1b13b8a-df14-4682-d29a-c1d18796b1f7",
        "colab": {
          "base_uri": "https://localhost:8080/",
          "height": 199
        }
      },
      "source": [
        "i = 0\n",
        "while(i < 10):\n",
        "  print(i)\n",
        "  i += 1"
      ],
      "execution_count": 0,
      "outputs": [
        {
          "output_type": "stream",
          "text": [
            "0\n",
            "1\n",
            "2\n",
            "3\n",
            "4\n",
            "5\n",
            "6\n",
            "7\n",
            "8\n",
            "9\n"
          ],
          "name": "stdout"
        }
      ]
    },
    {
      "cell_type": "markdown",
      "metadata": {
        "id": "zjvG-2rY-XGQ",
        "colab_type": "text"
      },
      "source": [
        "# Librerias fundamentales de python"
      ]
    },
    {
      "cell_type": "code",
      "metadata": {
        "id": "9AA8lISS91p5",
        "colab_type": "code",
        "colab": {}
      },
      "source": [
        "# NumPy es el paquete fundamental para la computación científica con Python\n",
        "import numpy as np \n",
        "# pandas es una herramienta de análisis y manipulación de datos de código \n",
        "# abierto rápida, potente, flexible y fácil de usar\n",
        "import pandas as pd\n",
        "# Graficar\n",
        "import matplotlib.pyplot as plt"
      ],
      "execution_count": 0,
      "outputs": []
    },
    {
      "cell_type": "markdown",
      "metadata": {
        "id": "SRDpNWX48KQx",
        "colab_type": "text"
      },
      "source": [
        "# Var Dicc"
      ]
    },
    {
      "cell_type": "code",
      "metadata": {
        "id": "jXxPSUvV4-15",
        "colab_type": "code",
        "outputId": "eff02804-56ef-4d70-b09d-d332fa442140",
        "colab": {
          "base_uri": "https://localhost:8080/",
          "height": 90
        }
      },
      "source": [
        "dcc = {\"t1\":{'t11':['t3_1', 't3_2', 't3_3'],\n",
        "             't12':['t3_1', 't3_2', 't3_3'],\n",
        "             't13':['t3_1', 't3_2', 't3_3'],\n",
        "             't14':['t3_1', 't3_2', 't3_3']},\n",
        "       \"t2\":{'t21':['t3_1', 't3_2', 't3_3'],\n",
        "             't22':['t3_1', 't3_2', 't3_3'],\n",
        "             't23':['t3_1', 't3_2', 't3_3'],\n",
        "             't24':['t3_1', 't3_2', 't3_3']},\n",
        "       \"t3\":{'t31':['t3_1', 't3_2', 't3_3'],\n",
        "             't32':['t3_1', 't3_2', 't3_3'],\n",
        "             't33':['t3_1', 't3_2', 't3_3'],\n",
        "             't34':['t3_1', 't3_2', 't3_3']},\n",
        "       \"t4\":{'t41':['t3_1', 't3_2', 't3_3'],\n",
        "             't42':['t3_1', 't3_2', 't3_3'],\n",
        "             't43':['t3_1', 't3_2', 't3_3'],\n",
        "             't44':['t3_1', 't3_2', 't3_3']}\n",
        "       }\n",
        "\n",
        "dcc['t3']"
      ],
      "execution_count": 0,
      "outputs": [
        {
          "output_type": "execute_result",
          "data": {
            "text/plain": [
              "{'t31': ['t3_1', 't3_2', 't3_3'],\n",
              " 't32': ['t3_1', 't3_2', 't3_3'],\n",
              " 't33': ['t3_1', 't3_2', 't3_3'],\n",
              " 't34': ['t3_1', 't3_2', 't3_3']}"
            ]
          },
          "metadata": {
            "tags": []
          },
          "execution_count": 31
        }
      ]
    },
    {
      "cell_type": "code",
      "metadata": {
        "id": "jT86uRA4_Hnq",
        "colab_type": "code",
        "outputId": "7fe48706-ef35-46f9-d9bd-59422a3d395f",
        "colab": {
          "base_uri": "https://localhost:8080/",
          "height": 528
        }
      },
      "source": [
        "pd.DataFrame(dcc)"
      ],
      "execution_count": 0,
      "outputs": [
        {
          "output_type": "execute_result",
          "data": {
            "text/html": [
              "<div>\n",
              "<style scoped>\n",
              "    .dataframe tbody tr th:only-of-type {\n",
              "        vertical-align: middle;\n",
              "    }\n",
              "\n",
              "    .dataframe tbody tr th {\n",
              "        vertical-align: top;\n",
              "    }\n",
              "\n",
              "    .dataframe thead th {\n",
              "        text-align: right;\n",
              "    }\n",
              "</style>\n",
              "<table border=\"1\" class=\"dataframe\">\n",
              "  <thead>\n",
              "    <tr style=\"text-align: right;\">\n",
              "      <th></th>\n",
              "      <th>t1</th>\n",
              "      <th>t2</th>\n",
              "      <th>t3</th>\n",
              "      <th>t4</th>\n",
              "    </tr>\n",
              "  </thead>\n",
              "  <tbody>\n",
              "    <tr>\n",
              "      <th>t11</th>\n",
              "      <td>[t3_1, t3_2, t3_3]</td>\n",
              "      <td>NaN</td>\n",
              "      <td>NaN</td>\n",
              "      <td>NaN</td>\n",
              "    </tr>\n",
              "    <tr>\n",
              "      <th>t12</th>\n",
              "      <td>[t3_1, t3_2, t3_3]</td>\n",
              "      <td>NaN</td>\n",
              "      <td>NaN</td>\n",
              "      <td>NaN</td>\n",
              "    </tr>\n",
              "    <tr>\n",
              "      <th>t13</th>\n",
              "      <td>[t3_1, t3_2, t3_3]</td>\n",
              "      <td>NaN</td>\n",
              "      <td>NaN</td>\n",
              "      <td>NaN</td>\n",
              "    </tr>\n",
              "    <tr>\n",
              "      <th>t14</th>\n",
              "      <td>[t3_1, t3_2, t3_3]</td>\n",
              "      <td>NaN</td>\n",
              "      <td>NaN</td>\n",
              "      <td>NaN</td>\n",
              "    </tr>\n",
              "    <tr>\n",
              "      <th>t21</th>\n",
              "      <td>NaN</td>\n",
              "      <td>[t3_1, t3_2, t3_3]</td>\n",
              "      <td>NaN</td>\n",
              "      <td>NaN</td>\n",
              "    </tr>\n",
              "    <tr>\n",
              "      <th>t22</th>\n",
              "      <td>NaN</td>\n",
              "      <td>[t3_1, t3_2, t3_3]</td>\n",
              "      <td>NaN</td>\n",
              "      <td>NaN</td>\n",
              "    </tr>\n",
              "    <tr>\n",
              "      <th>t23</th>\n",
              "      <td>NaN</td>\n",
              "      <td>[t3_1, t3_2, t3_3]</td>\n",
              "      <td>NaN</td>\n",
              "      <td>NaN</td>\n",
              "    </tr>\n",
              "    <tr>\n",
              "      <th>t24</th>\n",
              "      <td>NaN</td>\n",
              "      <td>[t3_1, t3_2, t3_3]</td>\n",
              "      <td>NaN</td>\n",
              "      <td>NaN</td>\n",
              "    </tr>\n",
              "    <tr>\n",
              "      <th>t31</th>\n",
              "      <td>NaN</td>\n",
              "      <td>NaN</td>\n",
              "      <td>[t3_1, t3_2, t3_3]</td>\n",
              "      <td>NaN</td>\n",
              "    </tr>\n",
              "    <tr>\n",
              "      <th>t32</th>\n",
              "      <td>NaN</td>\n",
              "      <td>NaN</td>\n",
              "      <td>[t3_1, t3_2, t3_3]</td>\n",
              "      <td>NaN</td>\n",
              "    </tr>\n",
              "    <tr>\n",
              "      <th>t33</th>\n",
              "      <td>NaN</td>\n",
              "      <td>NaN</td>\n",
              "      <td>[t3_1, t3_2, t3_3]</td>\n",
              "      <td>NaN</td>\n",
              "    </tr>\n",
              "    <tr>\n",
              "      <th>t34</th>\n",
              "      <td>NaN</td>\n",
              "      <td>NaN</td>\n",
              "      <td>[t3_1, t3_2, t3_3]</td>\n",
              "      <td>NaN</td>\n",
              "    </tr>\n",
              "    <tr>\n",
              "      <th>t41</th>\n",
              "      <td>NaN</td>\n",
              "      <td>NaN</td>\n",
              "      <td>NaN</td>\n",
              "      <td>[t3_1, t3_2, t3_3]</td>\n",
              "    </tr>\n",
              "    <tr>\n",
              "      <th>t42</th>\n",
              "      <td>NaN</td>\n",
              "      <td>NaN</td>\n",
              "      <td>NaN</td>\n",
              "      <td>[t3_1, t3_2, t3_3]</td>\n",
              "    </tr>\n",
              "    <tr>\n",
              "      <th>t43</th>\n",
              "      <td>NaN</td>\n",
              "      <td>NaN</td>\n",
              "      <td>NaN</td>\n",
              "      <td>[t3_1, t3_2, t3_3]</td>\n",
              "    </tr>\n",
              "    <tr>\n",
              "      <th>t44</th>\n",
              "      <td>NaN</td>\n",
              "      <td>NaN</td>\n",
              "      <td>NaN</td>\n",
              "      <td>[t3_1, t3_2, t3_3]</td>\n",
              "    </tr>\n",
              "  </tbody>\n",
              "</table>\n",
              "</div>"
            ],
            "text/plain": [
              "                     t1  ...                  t4\n",
              "t11  [t3_1, t3_2, t3_3]  ...                 NaN\n",
              "t12  [t3_1, t3_2, t3_3]  ...                 NaN\n",
              "t13  [t3_1, t3_2, t3_3]  ...                 NaN\n",
              "t14  [t3_1, t3_2, t3_3]  ...                 NaN\n",
              "t21                 NaN  ...                 NaN\n",
              "t22                 NaN  ...                 NaN\n",
              "t23                 NaN  ...                 NaN\n",
              "t24                 NaN  ...                 NaN\n",
              "t31                 NaN  ...                 NaN\n",
              "t32                 NaN  ...                 NaN\n",
              "t33                 NaN  ...                 NaN\n",
              "t34                 NaN  ...                 NaN\n",
              "t41                 NaN  ...  [t3_1, t3_2, t3_3]\n",
              "t42                 NaN  ...  [t3_1, t3_2, t3_3]\n",
              "t43                 NaN  ...  [t3_1, t3_2, t3_3]\n",
              "t44                 NaN  ...  [t3_1, t3_2, t3_3]\n",
              "\n",
              "[16 rows x 4 columns]"
            ]
          },
          "metadata": {
            "tags": []
          },
          "execution_count": 34
        }
      ]
    },
    {
      "cell_type": "code",
      "metadata": {
        "id": "g6m6PgdiAevv",
        "colab_type": "code",
        "outputId": "468af802-a821-4796-eedd-aff0c2d89cb4",
        "colab": {
          "base_uri": "https://localhost:8080/",
          "height": 138
        }
      },
      "source": [
        "pd.DataFrame(dcc['t2']['t21'])"
      ],
      "execution_count": 0,
      "outputs": [
        {
          "output_type": "execute_result",
          "data": {
            "text/html": [
              "<div>\n",
              "<style scoped>\n",
              "    .dataframe tbody tr th:only-of-type {\n",
              "        vertical-align: middle;\n",
              "    }\n",
              "\n",
              "    .dataframe tbody tr th {\n",
              "        vertical-align: top;\n",
              "    }\n",
              "\n",
              "    .dataframe thead th {\n",
              "        text-align: right;\n",
              "    }\n",
              "</style>\n",
              "<table border=\"1\" class=\"dataframe\">\n",
              "  <thead>\n",
              "    <tr style=\"text-align: right;\">\n",
              "      <th></th>\n",
              "      <th>0</th>\n",
              "    </tr>\n",
              "  </thead>\n",
              "  <tbody>\n",
              "    <tr>\n",
              "      <th>0</th>\n",
              "      <td>t3_1</td>\n",
              "    </tr>\n",
              "    <tr>\n",
              "      <th>1</th>\n",
              "      <td>t3_2</td>\n",
              "    </tr>\n",
              "    <tr>\n",
              "      <th>2</th>\n",
              "      <td>t3_3</td>\n",
              "    </tr>\n",
              "  </tbody>\n",
              "</table>\n",
              "</div>"
            ],
            "text/plain": [
              "      0\n",
              "0  t3_1\n",
              "1  t3_2\n",
              "2  t3_3"
            ]
          },
          "metadata": {
            "tags": []
          },
          "execution_count": 51
        }
      ]
    },
    {
      "cell_type": "code",
      "metadata": {
        "id": "uhTxbJnPApdW",
        "colab_type": "code",
        "outputId": "8736168b-2524-4328-e7b7-06d5f7c489bc",
        "colab": {
          "base_uri": "https://localhost:8080/",
          "height": 54
        }
      },
      "source": [
        "pd.DataFrame(dcc['t2']['t21']).iloc[0]"
      ],
      "execution_count": 0,
      "outputs": [
        {
          "output_type": "execute_result",
          "data": {
            "text/plain": [
              "0    t3_1\n",
              "Name: 0, dtype: object"
            ]
          },
          "metadata": {
            "tags": []
          },
          "execution_count": 55
        }
      ]
    },
    {
      "cell_type": "code",
      "metadata": {
        "id": "hmAz01SQ_33j",
        "colab_type": "code",
        "outputId": "12920743-0fe4-4fa9-fd6f-ac4c7d1574d4",
        "colab": {
          "base_uri": "https://localhost:8080/",
          "height": 78
        }
      },
      "source": [
        "pd.DataFrame(dcc['t2']['t21'][:1])"
      ],
      "execution_count": 0,
      "outputs": [
        {
          "output_type": "execute_result",
          "data": {
            "text/html": [
              "<div>\n",
              "<style scoped>\n",
              "    .dataframe tbody tr th:only-of-type {\n",
              "        vertical-align: middle;\n",
              "    }\n",
              "\n",
              "    .dataframe tbody tr th {\n",
              "        vertical-align: top;\n",
              "    }\n",
              "\n",
              "    .dataframe thead th {\n",
              "        text-align: right;\n",
              "    }\n",
              "</style>\n",
              "<table border=\"1\" class=\"dataframe\">\n",
              "  <thead>\n",
              "    <tr style=\"text-align: right;\">\n",
              "      <th></th>\n",
              "      <th>0</th>\n",
              "    </tr>\n",
              "  </thead>\n",
              "  <tbody>\n",
              "    <tr>\n",
              "      <th>0</th>\n",
              "      <td>t3_1</td>\n",
              "    </tr>\n",
              "  </tbody>\n",
              "</table>\n",
              "</div>"
            ],
            "text/plain": [
              "      0\n",
              "0  t3_1"
            ]
          },
          "metadata": {
            "tags": []
          },
          "execution_count": 45
        }
      ]
    },
    {
      "cell_type": "code",
      "metadata": {
        "id": "K93l5KERASuH",
        "colab_type": "code",
        "outputId": "744fbdea-9849-4232-a0ba-4a9fbd2f055d",
        "colab": {
          "base_uri": "https://localhost:8080/",
          "height": 108
        }
      },
      "source": [
        "pd.DataFrame(dcc['t2']['t21'][1:])"
      ],
      "execution_count": 0,
      "outputs": [
        {
          "output_type": "execute_result",
          "data": {
            "text/html": [
              "<div>\n",
              "<style scoped>\n",
              "    .dataframe tbody tr th:only-of-type {\n",
              "        vertical-align: middle;\n",
              "    }\n",
              "\n",
              "    .dataframe tbody tr th {\n",
              "        vertical-align: top;\n",
              "    }\n",
              "\n",
              "    .dataframe thead th {\n",
              "        text-align: right;\n",
              "    }\n",
              "</style>\n",
              "<table border=\"1\" class=\"dataframe\">\n",
              "  <thead>\n",
              "    <tr style=\"text-align: right;\">\n",
              "      <th></th>\n",
              "      <th>0</th>\n",
              "    </tr>\n",
              "  </thead>\n",
              "  <tbody>\n",
              "    <tr>\n",
              "      <th>0</th>\n",
              "      <td>t3_2</td>\n",
              "    </tr>\n",
              "    <tr>\n",
              "      <th>1</th>\n",
              "      <td>t3_3</td>\n",
              "    </tr>\n",
              "  </tbody>\n",
              "</table>\n",
              "</div>"
            ],
            "text/plain": [
              "      0\n",
              "0  t3_2\n",
              "1  t3_3"
            ]
          },
          "metadata": {
            "tags": []
          },
          "execution_count": 48
        }
      ]
    },
    {
      "cell_type": "code",
      "metadata": {
        "id": "zVX8nh_0Iegw",
        "colab_type": "code",
        "colab": {}
      },
      "source": [
        "f, (ax1, ax2) = plt.subplots(1, 2, sharey=True)  \n",
        "    ax1.plot(x, y)  \n",
        "    ax1.set_title('Sharing Y axis')  \n",
        "    ax2.scatter(x, y) "
      ],
      "execution_count": 0,
      "outputs": []
    },
    {
      "cell_type": "code",
      "metadata": {
        "id": "NLoh5mHhHZc2",
        "colab_type": "code",
        "colab": {
          "base_uri": "https://localhost:8080/",
          "height": 357
        },
        "outputId": "3e4626ec-d0fb-4c99-ac6f-44b403cc06a4"
      },
      "source": [
        "df=pd.DataFrame({'x': range(1,101), 'y': np.random.randn(100)*15+range(1,101), 'z': (np.random.randn(100)*15+range(1,101))*2 })\n",
        "f, [[ax1, ax2], [ax3, ax4]] = plt.subplots(2, 2, sharey=True) \n",
        "ax1.plot( 'x', 'y', data=df, marker='o', alpha=0.4)\n",
        "ax2.plot( 'x','z', data=df, linestyle='none', marker='o', color=\"orange\", alpha=0.3)\n",
        "ax3.plot( 'x', 'y', data=df, marker='o', alpha=0.4)\n",
        "ax4.plot( 'x','z', data=df, linestyle='none', marker='o', color=\"orange\", alpha=0.3)\n",
        "plt.show()"
      ],
      "execution_count": 95,
      "outputs": [
        {
          "output_type": "stream",
          "text": [
            "/usr/local/lib/python3.6/dist-packages/ipykernel_launcher.py:3: RuntimeWarning: Second argument 'y' is ambiguous: could be a format string but is in 'data'; using as data.  If it was intended as data, set the format string to an empty string to suppress this warning.  If it was intended as a format string, explicitly pass the x-values as well.  Alternatively, rename the entry in 'data'.\n",
            "  This is separate from the ipykernel package so we can avoid doing imports until\n",
            "/usr/local/lib/python3.6/dist-packages/ipykernel_launcher.py:5: RuntimeWarning: Second argument 'y' is ambiguous: could be a format string but is in 'data'; using as data.  If it was intended as data, set the format string to an empty string to suppress this warning.  If it was intended as a format string, explicitly pass the x-values as well.  Alternatively, rename the entry in 'data'.\n",
            "  \"\"\"\n"
          ],
          "name": "stderr"
        },
        {
          "output_type": "display_data",
          "data": {
            "image/png": "[encoded data removed]",
            "text/plain": [
              "<Figure size 432x288 with 4 Axes>"
            ]
          },
          "metadata": {
            "tags": [],
            "needs_background": "light"
          }
        }
      ]
    },
    {
      "cell_type": "markdown",
      "metadata": {
        "id": "RgnKTBTdJ7rG",
        "colab_type": "text"
      },
      "source": [
        "# TAREA \n",
        "### ¿Comó optimizar la tarea de hacer multiples graficas con un ciclo for o while?\n",
        "\n",
        "### Entradas: \n",
        "#### 1) numero de columnas \n",
        "#### 2) numero de filas\n",
        "#### 3) matrix 3 graficas diferentes\n",
        "\n",
        "#### La funcion debe autorrellenar la matriz de grafica"
      ]
    },
    {
      "cell_type": "markdown",
      "metadata": {
        "id": "ftHpUg6CKvz0",
        "colab_type": "text"
      },
      "source": [
        "# FUNCIONES"
      ]
    },
    {
      "cell_type": "code",
      "metadata": {
        "id": "SpyqWCVgKtg2",
        "colab_type": "code",
        "colab": {}
      },
      "source": [
        "x = j = 0\n",
        "\n",
        "def S (A,B,C):\n",
        "  x = A + B + C\n",
        "  j = (A+B) / C\n",
        "  return(x,j)"
      ],
      "execution_count": 0,
      "outputs": []
    },
    {
      "cell_type": "code",
      "metadata": {
        "id": "Zch0k9Z-LLhf",
        "colab_type": "code",
        "colab": {
          "base_uri": "https://localhost:8080/",
          "height": 108
        },
        "outputId": "3ed451d9-25d4-42d9-ee06-55a9aa170717"
      },
      "source": [
        "a,b,c = 10,20,30\n",
        "\n",
        "xxx , jjj = S(a,b,c)\n",
        "\n",
        "print(\"a = \"+str(a)+\"\\nb = \"+str(b)+\"\\nc = \"+str(c))\n",
        "print(\"x = \"+str(xxx)+\"\\nj = \"+str(jjj))"
      ],
      "execution_count": 104,
      "outputs": [
        {
          "output_type": "stream",
          "text": [
            "a = 10\n",
            "b = 20\n",
            "c = 30\n",
            "x = 60\n",
            "j = 1.0\n"
          ],
          "name": "stdout"
        }
      ]
    },
    {
      "cell_type": "code",
      "metadata": {
        "id": "4BArenPvLq0e",
        "colab_type": "code",
        "colab": {}
      },
      "source": [
        ""
      ],
      "execution_count": 0,
      "outputs": []
    }
  ]
}