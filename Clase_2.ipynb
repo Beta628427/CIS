{
  "nbformat": 4,
  "nbformat_minor": 0,
  "metadata": {
    "colab": {
      "name": "Untitled1.ipynb",
      "provenance": [],
      "toc_visible": true,
      "include_colab_link": true
    },
    "kernelspec": {
      "name": "python3",
      "display_name": "Python 3"
    }
  },
  "cells": [
    {
      "cell_type": "markdown",
      "metadata": {
        "id": "view-in-github",
        "colab_type": "text"
      },
      "source": [
        "<a href=\"https://colab.research.google.com/github/Beta628427/CIS/blob/master/Clase_2.ipynb\" target=\"_parent\"><img src=\"https://colab.research.google.com/assets/colab-badge.svg\" alt=\"Open In Colab\"/></a>"
      ]
    },
    {
      "cell_type": "markdown",
      "metadata": {
        "id": "-J3qDXeFwvSb",
        "colab_type": "text"
      },
      "source": [
        "# Regresión lineal simple"
      ]
    },
    {
      "cell_type": "code",
      "metadata": {
        "id": "Vsqlhqgww1BG",
        "colab_type": "code",
        "colab": {}
      },
      "source": [
        "import pandas as pd\n",
        "import numpy as np\n",
        "import gspread\n",
        "import matplotlib.pyplot as plt\n",
        "from oauth2client.client import GoogleCredentials \n",
        "from google.colab import auth\n",
        "# Autoriza BETA\n",
        "auth.authenticate_user()\n",
        "gc = gspread.authorize (GoogleCredentials.get_application_default())"
      ],
      "execution_count": 0,
      "outputs": []
    },
    {
      "cell_type": "markdown",
      "metadata": {
        "id": "2xAoqlB_02Do",
        "colab_type": "text"
      },
      "source": [
        "### leemos datos"
      ]
    },
    {
      "cell_type": "code",
      "metadata": {
        "id": "y_VVpj56uzRV",
        "colab_type": "code",
        "outputId": "a8ccadcb-d335-4535-d6cb-6dec15fb74e2",
        "colab": {
          "base_uri": "https://localhost:8080/",
          "height": 125
        }
      },
      "source": [
        "from google.colab import drive\n",
        "drive.mount('/content/drive')"
      ],
      "execution_count": 4,
      "outputs": [
        {
          "output_type": "stream",
          "text": [
            "Go to this URL in a browser: https://accounts.google.com/o/oauth2/auth?client_id=947318989803-6bn6qk8qdgf4n4g3pfee6491hc0brc4i.apps.googleusercontent.com&redirect_uri=urn%3aietf%3awg%3aoauth%3a2.0%3aoob&response_type=code&scope=email%20https%3a%2f%2fwww.googleapis.com%2fauth%2fdocs.test%20https%3a%2f%2fwww.googleapis.com%2fauth%2fdrive%20https%3a%2f%2fwww.googleapis.com%2fauth%2fdrive.photos.readonly%20https%3a%2f%2fwww.googleapis.com%2fauth%2fpeopleapi.readonly\n",
            "\n",
            "Enter your authorization code:\n",
            "··········\n",
            "Mounted at /content/drive\n"
          ],
          "name": "stdout"
        }
      ]
    },
    {
      "cell_type": "markdown",
      "metadata": {
        "id": "LDlK13slxMnk",
        "colab_type": "text"
      },
      "source": [
        "# Nueva sección"
      ]
    },
    {
      "cell_type": "code",
      "metadata": {
        "id": "0JYqth2Ty8-k",
        "colab_type": "code",
        "outputId": "0a11e72f-3592-4254-ea0c-af330162c465",
        "colab": {
          "base_uri": "https://localhost:8080/",
          "height": 52
        }
      },
      "source": [
        "data1 = pd.read_csv('/content/drive/My Drive/CIS/DATASET/Salary_Data.csv',delimiter=',')\n",
        "X = data1.iloc[:,:-1]\n",
        "Y = data1.iloc[:,1]\n",
        "Y = Y[:, np.newaxis]\n",
        "\n",
        "print(\"X <Años de experiencia> = dimensiones -> \" + str(X.shape))\n",
        "print(\"Y       <Salario>       = dimensiones -> \" + str(Y.shape))"
      ],
      "execution_count": 5,
      "outputs": [
        {
          "output_type": "stream",
          "text": [
            "X <Años de experiencia> = dimensiones -> (30, 1)\n",
            "Y       <Salario>       = dimensiones -> (30, 1)\n"
          ],
          "name": "stdout"
        }
      ]
    },
    {
      "cell_type": "code",
      "metadata": {
        "id": "xZq1KN4y3NGh",
        "colab_type": "code",
        "colab": {}
      },
      "source": [
        "from sklearn.model_selection import train_test_split\n",
        "X_train, X_test, Y_train, Y_test = train_test_split(X,Y,test_size=1/3, random_state=0)\n",
        "\n",
        "# Escalado de variables\n",
        "# en este ejemplo no es necesario lo dejaremos comentariado\n",
        "#from sklearn.preprocessing import StandardScaler\n",
        "#sc_x = StandardScaler()\n",
        "#x_train = sc_x.fit.transform(x_train)\n",
        "#x_test = sc_x.fit.transform(x_test)"
      ],
      "execution_count": 0,
      "outputs": []
    },
    {
      "cell_type": "code",
      "metadata": {
        "id": "hG1WOgWkCQNY",
        "colab_type": "code",
        "outputId": "fc20fbfe-f761-432f-ad3a-55ee46ce2d8e",
        "colab": {
          "base_uri": "https://localhost:8080/",
          "height": 294
        }
      },
      "source": [
        "plt.scatter(X,Y,color='blue', marker='^',alpha=0.5)\n",
        "plt.title(\"Gráfica 1\")\n",
        "plt.xlabel(\"Años de experiencia\")\n",
        "plt.ylabel(\"Salario\")\n",
        "plt.show()"
      ],
      "execution_count": 7,
      "outputs": [
        {
          "output_type": "display_data",
          "data": {
            "image/png": "[encoded data removed]",
            "text/plain": [
              "<Figure size 432x288 with 1 Axes>"
            ]
          },
          "metadata": {
            "tags": [],
            "needs_background": "light"
          }
        }
      ]
    },
    {
      "cell_type": "code",
      "metadata": {
        "id": "DDEvpDUZDAzf",
        "colab_type": "code",
        "outputId": "d2c9fbee-0bc4-4c1d-f08c-959d6d5fbc39",
        "colab": {
          "base_uri": "https://localhost:8080/",
          "height": 267
        }
      },
      "source": [
        "f, [ax1, ax2] = plt.subplots(2, 1, sharey=True) \n",
        "ax1.scatter(X_train,Y_train,color='blue', marker='^',alpha=0.5)\n",
        "ax2.scatter(X_test, Y_test ,color='blue', marker='^',alpha=0.5)\n",
        "plt.show()"
      ],
      "execution_count": 8,
      "outputs": [
        {
          "output_type": "display_data",
          "data": {
            "image/png": "[encoded data removed]",
            "text/plain": [
              "<Figure size 432x288 with 2 Axes>"
            ]
          },
          "metadata": {
            "tags": [],
            "needs_background": "light"
          }
        }
      ]
    },
    {
      "cell_type": "markdown",
      "metadata": {
        "id": "vBnbyngq2LfA",
        "colab_type": "text"
      },
      "source": [
        "### Modelo de regresión lineal simple. \n",
        "### método minimos cuadrados"
      ]
    },
    {
      "cell_type": "code",
      "metadata": {
        "id": "ILktg1Ld8Yuk",
        "colab_type": "code",
        "outputId": "d7f33e36-9dfe-4878-ad29-02fa3a4bbd61",
        "colab": {
          "base_uri": "https://localhost:8080/",
          "height": 34
        }
      },
      "source": [
        "from sklearn.linear_model import LinearRegression\n",
        "regresion = LinearRegression()\n",
        "regresion.fit(X_train,Y_train)"
      ],
      "execution_count": 9,
      "outputs": [
        {
          "output_type": "execute_result",
          "data": {
            "text/plain": [
              "LinearRegression(copy_X=True, fit_intercept=True, n_jobs=None, normalize=False)"
            ]
          },
          "metadata": {
            "tags": []
          },
          "execution_count": 9
        }
      ]
    },
    {
      "cell_type": "markdown",
      "metadata": {
        "id": "q9QzSNcaV7yW",
        "colab_type": "text"
      },
      "source": [
        "### Predecir el conjunto de test"
      ]
    },
    {
      "cell_type": "code",
      "metadata": {
        "id": "HrQmWN6tWAKU",
        "colab_type": "code",
        "colab": {}
      },
      "source": [
        "Y_pred= regresion.predict(X_test)"
      ],
      "execution_count": 0,
      "outputs": []
    },
    {
      "cell_type": "markdown",
      "metadata": {
        "id": "P14kIhEnZwG9",
        "colab_type": "text"
      },
      "source": [
        "### Visualizar los resulados del entenamiento"
      ]
    },
    {
      "cell_type": "code",
      "metadata": {
        "id": "TA306Es2plty",
        "colab_type": "code",
        "outputId": "966eabc6-11c8-4289-ee3d-d280c5df2f94",
        "colab": {
          "base_uri": "https://localhost:8080/",
          "height": 294
        }
      },
      "source": [
        "plt.scatter(X_train, Y_train, color=\"red\",alpha=0.5)\n",
        "plt.plot(X_train, regresion.predict(X_train), color=\"blue\")\n",
        "plt.title(\"Sueldo vs años de experiencia - Conjunto de entrenamiento\")\n",
        "plt.xlabel (\"Años de experiencia\")\n",
        "plt.ylabel (\"Sueldo $\")\n",
        "plt.show()"
      ],
      "execution_count": 11,
      "outputs": [
        {
          "output_type": "display_data",
          "data": {
            "image/png": "[encoded data removed]",
            "text/plain": [
              "<Figure size 432x288 with 1 Axes>"
            ]
          },
          "metadata": {
            "tags": [],
            "needs_background": "light"
          }
        }
      ]
    },
    {
      "cell_type": "code",
      "metadata": {
        "id": "ZM4tR4LCt8R7",
        "colab_type": "code",
        "outputId": "b3058b1e-591d-4c71-9733-cc1c7a0fd491",
        "colab": {
          "base_uri": "https://localhost:8080/",
          "height": 294
        }
      },
      "source": [
        "plt.scatter(X_test,Y_test,color=\"Green\")\n",
        "plt.plot(X_train, regresion.predict(X_train),color=\"blue\")\n",
        "plt.title(\"Sueldo vs años de experiencia - Conjunto de entrenamiento\")\n",
        "plt.xlabel (\"Años de experiencia\")\n",
        "plt.ylabel (\"Sueldo $\")\n",
        "plt.show()"
      ],
      "execution_count": 12,
      "outputs": [
        {
          "output_type": "display_data",
          "data": {
            "image/png": "[encoded data removed]",
            "text/plain": [
              "<Figure size 432x288 with 1 Axes>"
            ]
          },
          "metadata": {
            "tags": [],
            "needs_background": "light"
          }
        }
      ]
    },
    {
      "cell_type": "markdown",
      "metadata": {
        "id": "zXlMvzpxGDpt",
        "colab_type": "text"
      },
      "source": [
        "# Tarea\n",
        "## Regresion polinomica\n",
        "### Investigar regresion polinomica con sklearn y hacer un ejemplo donde se aplique una regresion lineal y polinomica que se ajuste a la tenddencia de la nube de puntos y compare con error la diferencia entre el modelo linea y polinomico."
      ]
    }
  ]
}